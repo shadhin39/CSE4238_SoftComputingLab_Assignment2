{
  "nbformat": 4,
  "nbformat_minor": 0,
  "metadata": {
    "colab": {
      "name": "170104119_exp_01.ipynb",
      "provenance": [],
      "collapsed_sections": []
    },
    "kernelspec": {
      "name": "python3",
      "display_name": "Python 3"
    },
    "language_info": {
      "name": "python"
    }
  },
  "cells": [
    {
      "cell_type": "code",
      "metadata": {
        "id": "V8ZcHtvV00En"
      },
      "source": [
        "import numpy as np\n",
        "import pandas as pd\n",
        "import torch\n",
        "import torch.nn as nn\n",
        "import torch.nn.functional as F\n",
        "import torch.optim as optim\n",
        "from torch.utils.data import Dataset\n",
        "from torch.utils.data.sampler import SubsetRandomSampler\n",
        "import matplotlib\n",
        "import matplotlib.pyplot as plt\n",
        "from PIL import Image\n",
        "from torchvision import datasets, transforms, models\n",
        "from torch.autograd import Variable\n",
        "from zipfile import ZipFile\n",
        "import os\n",
        "from os import path\n",
        "import shutil"
      ],
      "execution_count": null,
      "outputs": []
    },
    {
      "cell_type": "code",
      "metadata": {
        "colab": {
          "base_uri": "https://localhost:8080/"
        },
        "id": "sDygDkFB2G_W",
        "outputId": "03d7cca0-6d61-4892-bb24-b3e619fe97c9"
      },
      "source": [
        "import os\n",
        "print(os.listdir((\"/content/drive/My Drive/\")))"
      ],
      "execution_count": null,
      "outputs": [
        {
          "output_type": "stream",
          "name": "stdout",
          "text": [
            "['Classroom', 'IMG_20190611_150607.jpg', 'IMG_20190611_150339.jpg', 'IMG_20190611_150411.jpg', 'IMG_20190611_150404.jpg', 'IMG_20190912_223735.jpg', 'IMG_20190912_223722.jpg', 'training-c.csv', 'CSE 3200', 'OnlineC1Temp', 'prioritySheduling.cpp', 'roundRobin.cpp', 'FB_IMG_1560243332619.jpg', '20626349_908169069324367_6531878284942323371_o (2) (1).jpg', 'Untitled form (1).gform', 'D043R.rar', 'Colab Notebooks', 'D043R (7).zip', 'D043R (6).zip', 'D043R (5).zip', 'Detailed Written Version Of The Creative Contents For YSSE Youth Ambassador Recruitment 2020 by Fardin Alam Shadhin.pdf', 'D043R (4).zip', 'D043R (3).zip', 'YSSE Demo.gsheet', 'DCom.pdf', 'D043R (2).zip', 'D043R (1).zip', 'D043R.zip', 'C1_170104119 (2).zip', '170104119 (1).zip', 'Presentation3Use-case (1).pdf', 'Presentation3Use-case.pdf', 'Group2_C1.pdf', '170104119.zip', 'C1_170104119 (1).zip', 'Login.rar', 'C1_170104119_FirstFit_worstFit_BestFit.zip', '170104119.pdf', 'C1_170104119.zip', 'UserDB_log.ldf', 'UserDB.mdf', 'C1_170104142.zip', 'YSSE', 'Copy of Copy of Untitled form.gform', 'Untitled presentation (2).gslides', 'Untitled form.gform', '20626349_908169069324367_6531878284942323371_o (2).jpg', 'Admin And HR Data (Responses).gsheet', 'Untitled form (File responses)', 'YSSE Presentation Team', 'Untitled document (13).gdoc', 'Reference Papers', 'Shadhin (1).pdf', 'Untitled document (12).gdoc', 'Topy Apu', '170104119.c.gdoc', 'Priyata', 'ODCMS', 'Milestone-1.gslides', 'Diabetic Retinopathy Detection using machine learning in the [Autosaved] (1).gslides', 'Diabetic Retinopathy Detection using machine learning in the [Autosaved].gslides', 'Shadhin.pdf', 'Eye Glaucoma And Diabetic Retinopathy Detection Using Machine Learning.gdoc', 'Dataset', '170104119_Assignment-3.pdf', 'FiguresCOVID19', 'Glaucoma_CNN(MaxPooling_AveragePooling).gdoc', 'Max_Pooling (2).gdoc', 'Max_Pooling (1).gdoc', 'Untitled document (11).gdoc', 'Max_Pooling.gdoc', 'Methodology.gdoc', 'Untitled document (10).gdoc', 'Untitled document (9).gdoc', 'A large number of researches has taken place for the detection of Glaucoma in an accurate way.gdoc', 'PaperDemoGlaucoma.gdoc', 'SkinCancer', 'Dataset Description of Skin Cancer.gdoc', 'Description of Inception V3 model:.gdoc', 'Introduction_and_LiteratureReview.gdoc', 'Alzheimer_s Dataset', 'Glaucoma_TransferLearning.gdoc', 'Covid_19', 'Glaucoma', 'Untitled document (8).gdoc', 'Experimental Result Analysis.gdoc', 'Untitled document (7).gdoc', 'A Comparison Study of Covid-19 Detection Using Convolutional Neural Network(CNN) and InceptionV3.gdoc', 'COVID-19 Diagnosis from Chest X-ray Using Convolutional Neural Network(CNN) and InceptionV3.gdoc', 'Covid Data.gdoc', 'Untitled document (6).gdoc', 'COVID-19 Diagnosis from Chest X-ray Images  Using Convolutional Neural Network(CNN) and InceptionV3 (1).gdoc', 'COVID-19 Diagnosis from Chest X-ray Images Using Convolutional Neural Network(CNN) and InceptionV3.gdoc', 'Untitled document (5).gdoc', 'COVID-19 Diagnosis from Chest X-ray Images  Using Convolutional Neural Network(CNN) and InceptionV3.gdoc', 'Copy of Untitled form.gform', '4.1 Exam', '7.a.pdf', 'Untitled Jam.gjam', 'LiteratureReview.gdoc', 'Performance Analysis of Glaucoma Detection Using Deep Learning (1).gslides', 'Performance Analysis of Glaucoma Detection\\xa0Using Deep Learning Models (1).gdoc', 'Untitled presentation (1).gslides', 'DR_Messidor_Dataset', 'Model_Descripiton.gdoc', 'BrainTumor_CNN(MaxPooling_AveragePooling).gdoc', 'finalppt-170316081234.pdf', 'A Comperative Study of Diabetic Retinopathy Detection using Machine Learning and Deep Learning architectures..gdoc', 'DR_Deep Learning_Experiment Result Analysis.gdoc', 'Untitled document (4).gdoc', '3930_A Comparative Study of Diabetic Retinopathy Detection using Machine Learning and Deep Learning Architectures.pdf', 'Untitled document (3).gdoc', 'Performance Analysis of Glaucoma Detection Using Deep Learning.gslides', 'VID_20210701_233500.mp4', 'A comparative Study of DR detection using ML and DL architectures (2).gslides', 'VID_20210702_170057.mp4', 'A comparative Study of DR detection using ML and DL architectures (1).gslides', 'A comparative Study of DR detection using ML and DL architectures.gslides', 'Untitled presentation.gslides', 'Slide Demo.gslides', 'Covid-19 diagnosis from Chest X-ray images using CNN and InceptionV3.pdf', 'Certificates', 'Untitled document (2).gdoc', 'COVID-19 Lung CT Scans', 'DenseNet201.png', 'AccuracyDenseNet201.png', 'Matrix_Factorization_Assignment.csv', '170104142_271_Reports.gdoc', 'test (1).txt', 'test.txt', 'train (1).txt', 'train.txt', 'Pattern Lab', 'DIP', 'COVID-19 Lung CT Scan Methodology.gdoc', 'Untitled document (1).gdoc', 'VID_20210810_100116.mp4', 'Application-Form.gdoc', '[1]      https:  www.gdoc', 'VID_20210809_205538.mp4', 'Untitled document.gdoc', 'application_Letter_Mayisha_Farzana.gdoc', 'Subject: Adjunct Lecturer position in Department of CSE.gdoc', 'DR_Binary_VGG19.gdoc', 'Performance Analysis of Glaucoma Detection\\xa0Using Deep Learning Models.gdoc', 'Dataset C.zip', 'Fundus image', 'Features', 'Blood Vessels', 'Train', 'assignment2_model.pkl', 'Dataset_2.zip']\n"
          ]
        }
      ]
    },
    {
      "cell_type": "code",
      "metadata": {
        "colab": {
          "base_uri": "https://localhost:8080/"
        },
        "id": "jzbj2qMqq1k4",
        "outputId": "4637d401-086b-41e2-dcbb-bc80fddbfbe8"
      },
      "source": [
        "from google.colab import drive\n",
        "drive.mount('/content/drive')"
      ],
      "execution_count": null,
      "outputs": [
        {
          "output_type": "stream",
          "name": "stdout",
          "text": [
            "Mounted at /content/drive\n"
          ]
        }
      ]
    },
    {
      "cell_type": "code",
      "metadata": {
        "id": "RpQQD0gc2MXt"
      },
      "source": [
        "path = \"/content/drive/My Drive/\"\n",
        "\n",
        "dataset_C = path + 'Dataset C.zip'\n",
        "with ZipFile(dataset_C, 'r') as zip:\n",
        "  zip.extractall()"
      ],
      "execution_count": null,
      "outputs": []
    },
    {
      "cell_type": "code",
      "metadata": {
        "colab": {
          "base_uri": "https://localhost:8080/",
          "height": 221
        },
        "id": "L5W06rZf2li6",
        "outputId": "7aa2987f-fa60-46a6-f076-e9737d89600e"
      },
      "source": [
        "PATH = '/content/'\n",
        "data_labels = pd.read_csv(PATH + 'training-c.csv', usecols = ['filename', 'digit'])\n",
        "print(data_labels.shape)\n",
        "data_labels.head()"
      ],
      "execution_count": null,
      "outputs": [
        {
          "output_type": "stream",
          "name": "stdout",
          "text": [
            "(24298, 2)\n"
          ]
        },
        {
          "output_type": "execute_result",
          "data": {
            "text/html": [
              "<div>\n",
              "<style scoped>\n",
              "    .dataframe tbody tr th:only-of-type {\n",
              "        vertical-align: middle;\n",
              "    }\n",
              "\n",
              "    .dataframe tbody tr th {\n",
              "        vertical-align: top;\n",
              "    }\n",
              "\n",
              "    .dataframe thead th {\n",
              "        text-align: right;\n",
              "    }\n",
              "</style>\n",
              "<table border=\"1\" class=\"dataframe\">\n",
              "  <thead>\n",
              "    <tr style=\"text-align: right;\">\n",
              "      <th></th>\n",
              "      <th>filename</th>\n",
              "      <th>digit</th>\n",
              "    </tr>\n",
              "  </thead>\n",
              "  <tbody>\n",
              "    <tr>\n",
              "      <th>0</th>\n",
              "      <td>c00000.png</td>\n",
              "      <td>6</td>\n",
              "    </tr>\n",
              "    <tr>\n",
              "      <th>1</th>\n",
              "      <td>c00001.png</td>\n",
              "      <td>1</td>\n",
              "    </tr>\n",
              "    <tr>\n",
              "      <th>2</th>\n",
              "      <td>c00002.png</td>\n",
              "      <td>3</td>\n",
              "    </tr>\n",
              "    <tr>\n",
              "      <th>3</th>\n",
              "      <td>c00003.png</td>\n",
              "      <td>2</td>\n",
              "    </tr>\n",
              "    <tr>\n",
              "      <th>4</th>\n",
              "      <td>c00004.png</td>\n",
              "      <td>7</td>\n",
              "    </tr>\n",
              "  </tbody>\n",
              "</table>\n",
              "</div>"
            ],
            "text/plain": [
              "     filename  digit\n",
              "0  c00000.png      6\n",
              "1  c00001.png      1\n",
              "2  c00002.png      3\n",
              "3  c00003.png      2\n",
              "4  c00004.png      7"
            ]
          },
          "metadata": {},
          "execution_count": 6
        }
      ]
    },
    {
      "cell_type": "code",
      "metadata": {
        "id": "DmOZPvMi2r7w"
      },
      "source": [
        "TRAIN_PATH = \"/content/drive/My Drive/Train\"\n",
        "os.mkdir(TRAIN_PATH)\n",
        "\n",
        "def processImages(folder_name):\n",
        "  src = \"/content/\" + folder_name + '/'\n",
        "  dir_folders = os.listdir(src)\n",
        "  for dir_name in dir_folders:\n",
        "    file_name = os.path.join(src, dir_name)\n",
        "    if os.path.isfile(file_name):\n",
        "      shutil.copy(file_name, TRAIN_PATH) \n",
        "\n",
        "processImages('training-c')"
      ],
      "execution_count": null,
      "outputs": []
    },
    {
      "cell_type": "code",
      "metadata": {
        "id": "3nszJCYf6X1m"
      },
      "source": [
        "class Dataset(Dataset):\n",
        "    def __init__(self, df, root, transform=None):\n",
        "        self.data = df\n",
        "        self.root = root\n",
        "        self.transform = transform\n",
        "        \n",
        "    def __len__(self):\n",
        "        return len(self.data)\n",
        "    \n",
        "    def __getitem__(self, index):\n",
        "        item = self.data.iloc[index]\n",
        "        \n",
        "        path = self.root + \"/\" + item[0]\n",
        "        image = Image.open(path).convert('L')\n",
        "        label = item[1]\n",
        "        \n",
        "        if self.transform is not None:\n",
        "            image = self.transform(image)\n",
        "            \n",
        "        return image, label"
      ],
      "execution_count": null,
      "outputs": []
    },
    {
      "cell_type": "code",
      "metadata": {
        "id": "xtGRsoD-6auR"
      },
      "source": [
        "mean = [0.5,]\n",
        "std = [0.5, ]\n",
        "\n",
        "train_transform = transforms.Compose([\n",
        "    transforms.Resize(28),\n",
        "    transforms.ToTensor(),\n",
        "    transforms.Normalize(mean, std)\n",
        "])\n",
        "\n",
        "test_transform = transforms.Compose([\n",
        "        transforms.Resize(28),\n",
        "        transforms.ToTensor(),\n",
        "        transforms.Normalize(mean, std)\n",
        "])\n",
        "\n",
        "train_data  = Dataset(data_labels, TRAIN_PATH, train_transform)\n",
        "test_data = Dataset(data_labels, TRAIN_PATH, test_transform)\n",
        "\n"
      ],
      "execution_count": null,
      "outputs": []
    },
    {
      "cell_type": "code",
      "metadata": {
        "colab": {
          "base_uri": "https://localhost:8080/"
        },
        "id": "_20NHGq46eqb",
        "outputId": "9f41e41c-4f86-46cc-b28c-8af8f7fa63b1"
      },
      "source": [
        "batch_size = 20\n",
        "num_iters = 20000\n",
        "input_dim = 28*28 \n",
        "num_hidden = 6 \n",
        "output_dim = 10\n",
        "\n",
        "learning_rate = 0.01  \n",
        "\n",
        "num_epochs = num_iters / (len(train_data) / batch_size)\n",
        "num_epochs = int(num_epochs)\n",
        "print(num_epochs)\n",
        "\n",
        "device = torch.device(\"cuda:0\" if torch.cuda.is_available() else \"cpu\")"
      ],
      "execution_count": null,
      "outputs": [
        {
          "output_type": "stream",
          "name": "stdout",
          "text": [
            "16\n"
          ]
        }
      ]
    },
    {
      "cell_type": "code",
      "metadata": {
        "colab": {
          "base_uri": "https://localhost:8080/"
        },
        "id": "X_jJwP7J6fxd",
        "outputId": "210e666f-0432-4169-eeaa-c5e134fe380c"
      },
      "source": [
        "test_size = 0.2\n",
        "num_train = len(train_data)\n",
        "indices = list(range(num_train))\n",
        "np.random.shuffle(indices)\n",
        "split = int(np.floor(test_size * num_train))\n",
        "train_idx, test_idx = indices[split:], indices[:split]\n",
        "\n",
        "train_sampler = SubsetRandomSampler(train_idx)\n",
        "test_sampler = SubsetRandomSampler(test_idx)\n",
        "\n",
        "train_loader = torch.utils.data.DataLoader(\n",
        "    train_data, batch_size=batch_size,\n",
        "    sampler=train_sampler)\n",
        "\n",
        "test_loader = torch.utils.data.DataLoader(\n",
        "    test_data, batch_size=batch_size,\n",
        "    sampler=test_sampler)\n",
        "\n",
        "print(\"Train dataloader:{}\".format(len(train_loader)))\n",
        "print(\"Test dataloader:{}\".format(len(test_loader)))"
      ],
      "execution_count": null,
      "outputs": [
        {
          "output_type": "stream",
          "name": "stdout",
          "text": [
            "Train dataloader:972\n",
            "Test dataloader:243\n"
          ]
        }
      ]
    },
    {
      "cell_type": "code",
      "metadata": {
        "id": "MNB7Sgou6iln"
      },
      "source": [
        "class DeepNeuralNetworkModel(nn.Module):\n",
        "    def __init__(self, input_size, num_classes, num_hidden):\n",
        "        super().__init__()\n",
        "       \n",
        "        self.linear_1 = nn.Linear(input_size, num_hidden)\n",
        "        self.relu_1 = nn.ReLU()\n",
        " \n",
        "        self.linear_2 = nn.Linear(num_hidden, num_hidden)\n",
        "        self.relu_2 = nn.ReLU()\n",
        " \n",
        "        self.linear_3 = nn.Linear(num_hidden, num_hidden)\n",
        "        self.relu_3 = nn.ReLU()\n",
        " \n",
        "        self.linear_4 = nn.Linear(num_hidden, num_hidden)\n",
        "        self.relu_4 = nn.ReLU()\n",
        " \n",
        "        self.linear_5= nn.Linear(num_hidden, num_hidden)\n",
        "        self.relu_5= nn.ReLU()\n",
        " \n",
        "        self.linear_6 = nn.Linear(num_hidden, num_hidden)\n",
        "        self.relu_6 = nn.ReLU()\n",
        " \n",
        "        self.linear_out = nn.Linear(num_hidden, num_classes)\n",
        " \n",
        "    def forward(self, x):\n",
        "        out  = self.linear_1(x)\n",
        "        out = self.relu_1(out)\n",
        "        \n",
        "        out  = self.linear_2(out)\n",
        "        out = self.relu_2(out)\n",
        " \n",
        "        out  = self.linear_3(out)\n",
        "        out = self.relu_3(out)\n",
        " \n",
        "        out  = self.linear_4(out)\n",
        "        out = self.relu_4(out)\n",
        " \n",
        "        out  = self.linear_5(out)\n",
        "        out = self.relu_5(out)\n",
        " \n",
        "        out  = self.linear_6(out)\n",
        "        out = self.relu_6(out)\n",
        "        \n",
        "        probas  = self.linear_out(out)\n",
        "        return probas\n"
      ],
      "execution_count": null,
      "outputs": []
    },
    {
      "cell_type": "code",
      "metadata": {
        "colab": {
          "base_uri": "https://localhost:8080/"
        },
        "id": "P1GDq6TX6lMv",
        "outputId": "4664798a-959a-4ab5-9b02-6ddcbcb3efd6"
      },
      "source": [
        "model = DeepNeuralNetworkModel(input_size = input_dim, num_classes = output_dim, num_hidden = num_hidden)\n",
        "\n",
        "model.to(device)"
      ],
      "execution_count": null,
      "outputs": [
        {
          "output_type": "execute_result",
          "data": {
            "text/plain": [
              "DeepNeuralNetworkModel(\n",
              "  (linear_1): Linear(in_features=784, out_features=6, bias=True)\n",
              "  (relu_1): ReLU()\n",
              "  (linear_2): Linear(in_features=6, out_features=6, bias=True)\n",
              "  (relu_2): ReLU()\n",
              "  (linear_3): Linear(in_features=6, out_features=6, bias=True)\n",
              "  (relu_3): ReLU()\n",
              "  (linear_4): Linear(in_features=6, out_features=6, bias=True)\n",
              "  (relu_4): ReLU()\n",
              "  (linear_5): Linear(in_features=6, out_features=6, bias=True)\n",
              "  (relu_5): ReLU()\n",
              "  (linear_6): Linear(in_features=6, out_features=6, bias=True)\n",
              "  (relu_6): ReLU()\n",
              "  (linear_out): Linear(in_features=6, out_features=10, bias=True)\n",
              ")"
            ]
          },
          "metadata": {},
          "execution_count": 15
        }
      ]
    },
    {
      "cell_type": "code",
      "metadata": {
        "id": "If50o4ft6nSl"
      },
      "source": [
        "criterion = nn.CrossEntropyLoss()\n",
        "optimizer = torch.optim.Adamax(model.parameters(), lr=learning_rate)"
      ],
      "execution_count": null,
      "outputs": []
    },
    {
      "cell_type": "code",
      "metadata": {
        "colab": {
          "base_uri": "https://localhost:8080/"
        },
        "id": "ZzQuCqAM6pld",
        "outputId": "d94d9f74-cd90-4838-89d4-13ce762afe78"
      },
      "source": [
        "iteration_loss = []\n",
        "acc = []\n",
        "iter = 0\n",
        "for epoch in range(num_epochs):\n",
        "    print('Epoch: ', epoch + 1)\n",
        "    for i, (images, labels) in enumerate(train_loader):\n",
        "\n",
        "        images = images.view(-1, 28*28).to(device)\n",
        "        labels = labels.to(device)\n",
        "\n",
        "        optimizer.zero_grad()\n",
        "\n",
        "        outputs = model(images) \n",
        "\n",
        "        loss = criterion(outputs, labels)\n",
        "\n",
        "        loss.backward()\n",
        "\n",
        "        optimizer.step()\n",
        "\n",
        "        iter += 1\n",
        "\n",
        "        if iter % 500 == 0:        \n",
        "            correct = 0\n",
        "            total = 0\n",
        "            for images, labels in test_loader:\n",
        "               \n",
        "                images = images.view(-1, 28*28).to(device)\n",
        "\n",
        "                outputs = model(images)\n",
        "\n",
        "                _, predicted = torch.max(outputs, 1)\n",
        "\n",
        "                total += labels.size(0)\n",
        "\n",
        "                if torch.cuda.is_available():\n",
        "                    correct += (predicted.cpu() == labels.cpu()).sum() \n",
        "                else:\n",
        "                    correct += (predicted == labels).sum()\n",
        "\n",
        "            accuracy = 100 * correct.item() / total\n",
        "\n",
        "            iteration_loss.append(loss.item())\n",
        "            print('Iteration: {}. Loss: {}. Accuracy: {}'.format(iter, loss.item(), accuracy))"
      ],
      "execution_count": null,
      "outputs": [
        {
          "output_type": "stream",
          "name": "stdout",
          "text": [
            "Epoch:  1\n",
            "Iteration: 500. Loss: 2.299643039703369. Accuracy: 10.290183165260341\n",
            "Epoch:  2\n",
            "Iteration: 1000. Loss: 2.300184488296509. Accuracy: 9.63161144268368\n",
            "Iteration: 1500. Loss: 2.318502187728882. Accuracy: 10.290183165260341\n",
            "Epoch:  3\n",
            "Iteration: 2000. Loss: 2.299276113510132. Accuracy: 10.290183165260341\n",
            "Iteration: 2500. Loss: 2.306591510772705. Accuracy: 9.569870343692118\n",
            "Epoch:  4\n",
            "Iteration: 3000. Loss: 2.31643009185791. Accuracy: 10.104959868285656\n",
            "Iteration: 3500. Loss: 2.3062214851379395. Accuracy: 9.919736571310969\n",
            "Epoch:  5\n",
            "Iteration: 4000. Loss: 2.299635410308838. Accuracy: 9.919736571310969\n",
            "Iteration: 4500. Loss: 2.3084466457366943. Accuracy: 9.919736571310969\n",
            "Epoch:  6\n",
            "Iteration: 5000. Loss: 2.2909648418426514. Accuracy: 10.084379501955135\n",
            "Iteration: 5500. Loss: 2.3201541900634766. Accuracy: 9.919736571310969\n",
            "Epoch:  7\n",
            "Iteration: 6000. Loss: 2.303091526031494. Accuracy: 10.084379501955135\n",
            "Iteration: 6500. Loss: 2.30950927734375. Accuracy: 9.960897303972011\n",
            "Epoch:  8\n",
            "Iteration: 7000. Loss: 2.3026537895202637. Accuracy: 10.084379501955135\n",
            "Iteration: 7500. Loss: 2.3019516468048096. Accuracy: 9.919736571310969\n",
            "Epoch:  9\n",
            "Iteration: 8000. Loss: 2.294377326965332. Accuracy: 9.63161144268368\n",
            "Iteration: 8500. Loss: 2.318166732788086. Accuracy: 9.569870343692118\n",
            "Epoch:  10\n",
            "Iteration: 9000. Loss: 2.3051791191101074. Accuracy: 9.569870343692118\n",
            "Iteration: 9500. Loss: 2.3011717796325684. Accuracy: 9.63161144268368\n",
            "Epoch:  11\n",
            "Iteration: 10000. Loss: 2.3072052001953125. Accuracy: 9.63161144268368\n",
            "Iteration: 10500. Loss: 2.30485200881958. Accuracy: 9.63161144268368\n",
            "Epoch:  12\n",
            "Iteration: 11000. Loss: 2.308574676513672. Accuracy: 10.187281333607737\n",
            "Iteration: 11500. Loss: 2.307220220565796. Accuracy: 9.63161144268368\n",
            "Epoch:  13\n",
            "Iteration: 12000. Loss: 2.3001580238342285. Accuracy: 9.919736571310969\n",
            "Iteration: 12500. Loss: 2.312523603439331. Accuracy: 10.290183165260341\n",
            "Epoch:  14\n",
            "Iteration: 13000. Loss: 2.309614896774292. Accuracy: 10.104959868285656\n",
            "Iteration: 13500. Loss: 2.2922136783599854. Accuracy: 9.63161144268368\n",
            "Epoch:  15\n",
            "Iteration: 14000. Loss: 2.3146326541900635. Accuracy: 9.63161144268368\n",
            "Iteration: 14500. Loss: 2.295405864715576. Accuracy: 9.569870343692118\n",
            "Epoch:  16\n",
            "Iteration: 15000. Loss: 2.2966742515563965. Accuracy: 9.63161144268368\n",
            "Iteration: 15500. Loss: 2.2944118976593018. Accuracy: 9.919736571310969\n"
          ]
        }
      ]
    },
    {
      "cell_type": "code",
      "metadata": {
        "id": "gPzYAq9LOgVY"
      },
      "source": [
        "#settings 1\n",
        "save_model = True\n",
        "\n",
        "if save_model is True:\n",
        "    # Saves only parameters\n",
        "    # wights & biases\n",
        "    torch.save(model.state_dict(), path + 'assignment2_model.pkl') "
      ],
      "execution_count": null,
      "outputs": []
    },
    {
      "cell_type": "code",
      "metadata": {
        "colab": {
          "base_uri": "https://localhost:8080/",
          "height": 316
        },
        "id": "P0q2enBNQ8xs",
        "outputId": "eb46424f-5bf7-46c0-9629-2bb5caa83ec7"
      },
      "source": [
        "import matplotlib\n",
        "import matplotlib.pyplot as plt\n",
        "\n",
        "print (iteration_loss)\n",
        "plt.plot(iteration_loss)\n",
        "plt.ylabel('Cross Entropy Loss')\n",
        "plt.xlabel('Iteration (in every 500)')\n",
        "plt.show()"
      ],
      "execution_count": null,
      "outputs": [
        {
          "output_type": "stream",
          "name": "stdout",
          "text": [
            "[2.299643039703369, 2.300184488296509, 2.318502187728882, 2.299276113510132, 2.306591510772705, 2.31643009185791, 2.3062214851379395, 2.299635410308838, 2.3084466457366943, 2.2909648418426514, 2.3201541900634766, 2.303091526031494, 2.30950927734375, 2.3026537895202637, 2.3019516468048096, 2.294377326965332, 2.318166732788086, 2.3051791191101074, 2.3011717796325684, 2.3072052001953125, 2.30485200881958, 2.308574676513672, 2.307220220565796, 2.3001580238342285, 2.312523603439331, 2.309614896774292, 2.2922136783599854, 2.3146326541900635, 2.295405864715576, 2.2966742515563965, 2.2944118976593018]\n"
          ]
        },
        {
          "output_type": "display_data",
          "data": {
            "image/png": "[encoded data removed]",
            "text/plain": [
              "<Figure size 432x288 with 1 Axes>"
            ]
          },
          "metadata": {
            "needs_background": "light"
          }
        }
      ]
    },
    {
      "cell_type": "code",
      "metadata": {
        "colab": {
          "base_uri": "https://localhost:8080/"
        },
        "id": "o_svQi3yQ_Dz",
        "outputId": "47b07e81-f7a0-49a3-84c4-591e38fa6e01"
      },
      "source": [
        "print(\"Final Model Loss: \",iteration_loss[-1])\n",
        "print (\"Final Model Accuracy: \",accuracy)"
      ],
      "execution_count": null,
      "outputs": [
        {
          "output_type": "stream",
          "name": "stdout",
          "text": [
            "Final Model Loss:  2.2944118976593018\n",
            "Final Model Accuracy:  9.919736571310969\n"
          ]
        }
      ]
    },
    {
      "cell_type": "code",
      "metadata": {
        "colab": {
          "base_uri": "https://localhost:8080/",
          "height": 92
        },
        "id": "KSBABgz9RBi3",
        "outputId": "800662ce-7ddb-4552-c03d-fc2016704af5"
      },
      "source": [
        "import matplotlib\n",
        "import matplotlib.pyplot as plt\n",
        "for images, labels in test_loader:\n",
        "    break\n",
        "    \n",
        "fig, ax = plt.subplots(1, 7)\n",
        "for i in range(7):\n",
        "    ax[i].imshow(images[i].view(28,28), cmap=matplotlib.cm.binary)\n",
        "\n",
        "plt.show()"
      ],
      "execution_count": null,
      "outputs": [
        {
          "output_type": "display_data",
          "data": {
            "image/png": "[encoded data removed]",
            "text/plain": [
              "<Figure size 432x288 with 7 Axes>"
            ]
          },
          "metadata": {
            "needs_background": "light"
          }
        }
      ]
    }
  ]
}